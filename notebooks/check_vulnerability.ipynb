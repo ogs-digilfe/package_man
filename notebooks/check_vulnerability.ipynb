{
 "cells": [
  {
   "cell_type": "code",
   "execution_count": 5,
   "id": "f726d0b7-2a58-4ae0-b2f8-9c6829e943f7",
   "metadata": {},
   "outputs": [],
   "source": [
    "#\n",
    "# パラメータ設定セル\n",
    "#\n",
    "os = \"Ubuntu\"\n",
    "os_version = \"22.04\"\n",
    "package = \"zlib1g\"\n",
    "package_version = \"1.2.11.dfsg-2ubuntu9.2\"\n",
    "\n",
    "# package_version examples\n",
    "# package_version = \"1:1.2.11.dfsg-2ubuntu9.2\"\n",
    "# package_version = \"1.2.11\"\n",
    "# package_version = \"1.2\"\n",
    "# package_version = \"1.2.x\"\n",
    "# package_version = \"1.x\""
   ]
  },
  {
   "cell_type": "code",
   "execution_count": 6,
   "id": "9cb6c599-66c6-4982-af28-2554552aef64",
   "metadata": {},
   "outputs": [
    {
     "name": "stdout",
     "output_type": "stream",
     "text": [
      "\n"
     ]
    }
   ],
   "source": [
    "'''\n",
    "概要:  \n",
    "　　脆弱性対応が必要なパッケージのos, os_version, package, package_versionの  \n",
    "　各パラメータを指定すると、install済パッケージを抽出し、脆弱性対象かどうかを評価。  \n",
    "　脆弱性対応が必要なパッケージの一覧を出力する。  \n",
    "　出力項目は、hostname, ssh_ip_address, os, os_version, name, versionの各項目。  \n",
    "　　なお、os, os_version, packageについては、リストにあるものを正確に指定する必要がある。  \n",
    "　os, os_versionについては、後述のoutput_managed_os.ipynbツールを実行して  \n",
    "　正確なosとos_versionを指定するなどして、正確なパラメータを設定すること。  \n",
    "　　また、pachageも正確なpackage名を指定する必要がある。  \n",
    "　前述のsearch_installed_pacages.ipynbツールを実行するなどして正確なpackage名  \n",
    "　を指定できるようにすること。  \n",
    "パッケージバージョン指定方法：  \n",
    "　package_versionの指定については、以下のいずれかのパターンで指定する。   \n",
    "　patern1 \"1:1.2.11.dfsg-2ubuntu9.2\"のように、正確なバージョンを指定する  \n",
    "　　　　epoc(1:の部分)を入れる場合、epocを優先的に評価する。  \n",
    "　　　　versionが該当していても、epocが該当していなければリストアップされない。  \n",
    "　patarn2 \"1.2.11.dfsg-2ubuntu9.2\"のように、epocを入力せずにversionのみ入力する。  \n",
    "　　　　この場合、1.2.11のように、epoc情報は無視されて数字のバージョン情報のみ評価される。   \n",
    "　　　　なお、文字が混ざった情報(.dfsg-2ubuntu9.2の部分)は評価時に無視される。  \n",
    "　patern3 \"1.2.11\"のように、数字部分だけ指定する  \n",
    "　　　　この場合、数字のバージョン情報のみで評価される。\n",
    "　patarn4 \"1.2.x\"のように、枝バージョンをxで表記する  \n",
    "　　　　この場合、1.2.xはxの数字が何であろうとすべて抽出される  \n",
    "　　　　(実際にはxを\"1000000\"に変換して評価している)  \n",
    "　patarn5 \"1.2\"のように、枝ーバージョン、下位バージョンを省略して指定する  \n",
    "　　　　この場合、1.2.xと同じ評価結果となる  \n",
    "　その他 オリジナルのバージョン情報の最上位が\"2Ubuntu3\"のように、文字入りの場合、  \n",
    "　　　　バージョン比較ができない。  \n",
    "　　　　この場合、transformed_versionは0に変換されるので、指定バージョンにかかわらず  \n",
    "　　　　該当パッケージがすべて脆弱性対象として抽出される。  \n",
    "パラメータ：  \n",
    "　os, os_version, package, package_version  \n",
    "設定例：  \n",
    "　os = \"Ubuntu\"  \n",
    "　os_version = \"22.04\"  \n",
    "　package = \"zlib1g\"  \n",
    "　package_version = \"1:1.2.11.dfsg-2ubuntu9.2\"\n",
    "出力：  \n",
    "　該当パッケージリストは、脆弱性の有無にかかわらず、install済の指定packageの一覧。  \n",
    "　要脆弱性リストは、該当パッケージリストのうち、脆弱性対応が必要なもののみ抽出したpackageの一覧。\n",
    "'''\n",
    "print()"
   ]
  },
  {
   "cell_type": "code",
   "execution_count": 7,
   "id": "93c3fe68-a523-4274-9582-91b0f04e571e",
   "metadata": {},
   "outputs": [],
   "source": [
    "from lib_local import PackageList\n",
    "from packaging import version\n",
    "import pandas as pd\n",
    "\n",
    "ins = PackageList()"
   ]
  },
  {
   "cell_type": "code",
   "execution_count": 8,
   "id": "ec884278-4e72-4aa1-b703-6d4e99941366",
   "metadata": {},
   "outputs": [
    {
     "name": "stdout",
     "output_type": "stream",
     "text": [
      "該当パッケージリスト(pandas.DataFrame)：\n"
     ]
    },
    {
     "data": {
      "text/html": [
       "<table border=\"1\" class=\"dataframe\">\n",
       "  <thead>\n",
       "    <tr style=\"text-align: right;\">\n",
       "      <th></th>\n",
       "      <th>hostname</th>\n",
       "      <th>ssh_ip_address</th>\n",
       "      <th>os</th>\n",
       "      <th>os_version</th>\n",
       "      <th>name</th>\n",
       "      <th>version</th>\n",
       "    </tr>\n",
       "  </thead>\n",
       "  <tbody>\n",
       "    <tr>\n",
       "      <th>618</th>\n",
       "      <td>grafana1</td>\n",
       "      <td>192.168.0.134</td>\n",
       "      <td>Ubuntu</td>\n",
       "      <td>22.04</td>\n",
       "      <td>zlib1g</td>\n",
       "      <td>1:1.2.11.dfsg-2ubuntu9.2</td>\n",
       "    </tr>\n",
       "    <tr>\n",
       "      <th>1318</th>\n",
       "      <td>stdb1</td>\n",
       "      <td>192.168.0.101</td>\n",
       "      <td>Ubuntu</td>\n",
       "      <td>22.04</td>\n",
       "      <td>zlib1g</td>\n",
       "      <td>1:1.2.11.dfsg-2ubuntu9.2</td>\n",
       "    </tr>\n",
       "    <tr>\n",
       "      <th>1935</th>\n",
       "      <td>influxdb2</td>\n",
       "      <td>192.168.0.137</td>\n",
       "      <td>Ubuntu</td>\n",
       "      <td>22.04</td>\n",
       "      <td>zlib1g</td>\n",
       "      <td>1:1.2.11.dfsg-2ubuntu9.2</td>\n",
       "    </tr>\n",
       "    <tr>\n",
       "      <th>2616</th>\n",
       "      <td>django05</td>\n",
       "      <td>192.168.0.145</td>\n",
       "      <td>Ubuntu</td>\n",
       "      <td>22.04</td>\n",
       "      <td>zlib1g</td>\n",
       "      <td>1:1.2.11.dfsg-2ubuntu9.2</td>\n",
       "    </tr>\n",
       "    <tr>\n",
       "      <th>4639</th>\n",
       "      <td>home_gw</td>\n",
       "      <td>192.168.0.100</td>\n",
       "      <td>Ubuntu</td>\n",
       "      <td>22.04</td>\n",
       "      <td>zlib1g</td>\n",
       "      <td>1:1.2.11.dfsg-2ubuntu9.2</td>\n",
       "    </tr>\n",
       "  </tbody>\n",
       "</table>"
      ],
      "text/plain": [
       "<IPython.core.display.HTML object>"
      ]
     },
     "metadata": {},
     "output_type": "display_data"
    },
    {
     "name": "stdout",
     "output_type": "stream",
     "text": [
      "\n",
      "要脆弱性対応リスト(pandas.DataFrame)：\n"
     ]
    },
    {
     "data": {
      "text/html": [
       "<table border=\"1\" class=\"dataframe\">\n",
       "  <thead>\n",
       "    <tr style=\"text-align: right;\">\n",
       "      <th></th>\n",
       "      <th>hostname</th>\n",
       "      <th>ssh_ip_address</th>\n",
       "      <th>os</th>\n",
       "      <th>os_version</th>\n",
       "      <th>name</th>\n",
       "      <th>version</th>\n",
       "    </tr>\n",
       "  </thead>\n",
       "  <tbody>\n",
       "    <tr>\n",
       "      <th>618</th>\n",
       "      <td>grafana1</td>\n",
       "      <td>192.168.0.134</td>\n",
       "      <td>Ubuntu</td>\n",
       "      <td>22.04</td>\n",
       "      <td>zlib1g</td>\n",
       "      <td>1:1.2.11.dfsg-2ubuntu9.2</td>\n",
       "    </tr>\n",
       "    <tr>\n",
       "      <th>1318</th>\n",
       "      <td>stdb1</td>\n",
       "      <td>192.168.0.101</td>\n",
       "      <td>Ubuntu</td>\n",
       "      <td>22.04</td>\n",
       "      <td>zlib1g</td>\n",
       "      <td>1:1.2.11.dfsg-2ubuntu9.2</td>\n",
       "    </tr>\n",
       "    <tr>\n",
       "      <th>1935</th>\n",
       "      <td>influxdb2</td>\n",
       "      <td>192.168.0.137</td>\n",
       "      <td>Ubuntu</td>\n",
       "      <td>22.04</td>\n",
       "      <td>zlib1g</td>\n",
       "      <td>1:1.2.11.dfsg-2ubuntu9.2</td>\n",
       "    </tr>\n",
       "    <tr>\n",
       "      <th>2616</th>\n",
       "      <td>django05</td>\n",
       "      <td>192.168.0.145</td>\n",
       "      <td>Ubuntu</td>\n",
       "      <td>22.04</td>\n",
       "      <td>zlib1g</td>\n",
       "      <td>1:1.2.11.dfsg-2ubuntu9.2</td>\n",
       "    </tr>\n",
       "    <tr>\n",
       "      <th>4639</th>\n",
       "      <td>home_gw</td>\n",
       "      <td>192.168.0.100</td>\n",
       "      <td>Ubuntu</td>\n",
       "      <td>22.04</td>\n",
       "      <td>zlib1g</td>\n",
       "      <td>1:1.2.11.dfsg-2ubuntu9.2</td>\n",
       "    </tr>\n",
       "  </tbody>\n",
       "</table>"
      ],
      "text/plain": [
       "<IPython.core.display.HTML object>"
      ]
     },
     "metadata": {},
     "output_type": "display_data"
    }
   ],
   "source": [
    "# 結果の取得と出力\n",
    "# 調査対象リストと脆弱性該当リストはpandas.DataFrameオブジェクトで返される。\n",
    "調査対象リスト, 脆弱性該当リスト = ins.check_vulnerability(os, os_version, package, package_version)"
   ]
  },
  {
   "cell_type": "code",
   "execution_count": null,
   "id": "fab6d8cc-a8c9-402c-933b-2ef250e32bbd",
   "metadata": {},
   "outputs": [],
   "source": []
  }
 ],
 "metadata": {
  "kernelspec": {
   "display_name": "Python 3 (ipykernel)",
   "language": "python",
   "name": "python3"
  },
  "language_info": {
   "codemirror_mode": {
    "name": "ipython",
    "version": 3
   },
   "file_extension": ".py",
   "mimetype": "text/x-python",
   "name": "python",
   "nbconvert_exporter": "python",
   "pygments_lexer": "ipython3",
   "version": "3.10.12"
  }
 },
 "nbformat": 4,
 "nbformat_minor": 5
}
