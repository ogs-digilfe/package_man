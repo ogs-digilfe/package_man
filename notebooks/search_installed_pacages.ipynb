{
 "cells": [
  {
   "cell_type": "code",
   "execution_count": 1,
   "id": "1286bfed-1da0-41b6-b07c-570dff9baca4",
   "metadata": {},
   "outputs": [],
   "source": [
    "#\n",
    "# パラメータ設定セル\n",
    "#\n",
    "# package_name_stringで指定した文字列を含むinstalle済パッケージが検索され、出力される。\n",
    "# package_name_string = \"grub-efi-amd64\"\n",
    "# package_name_string = \"GnuTLS\"\n",
    "package_name_string = \"python3-venv\""
   ]
  },
  {
   "cell_type": "code",
   "execution_count": 2,
   "id": "fe42ee0d-16e2-49d4-9103-73ae93241305",
   "metadata": {},
   "outputs": [],
   "source": [
    "import os, sys\n",
    "from pathlib import Path\n",
    "\n",
    "CURRENT_DIR = Path(os.getcwd())\n",
    "PJROOT_DIR = CURRENT_DIR.parent\n",
    "LIB_PACKAGE_MAN_DIR = PJROOT_DIR / \"airflow\"\n",
    "\n",
    "sys.path.append(str(LIB_PACKAGE_MAN_DIR))"
   ]
  },
  {
   "cell_type": "code",
   "execution_count": 3,
   "id": "ea61fa8b-6ebd-4143-9ff9-e7d27d94524d",
   "metadata": {},
   "outputs": [],
   "source": [
    "from lib_package_man import PackageList\n",
    "from packaging import version\n",
    "import pandas as pd\n",
    "\n",
    "ins = PackageList()"
   ]
  },
  {
   "cell_type": "code",
   "execution_count": 4,
   "id": "dc170037-61cf-45c5-8e68-0a8862709b6f",
   "metadata": {},
   "outputs": [
    {
     "name": "stdout",
     "output_type": "stream",
     "text": [
      "検索結果(pandas.DataFrame)：\n"
     ]
    },
    {
     "data": {
      "text/html": [
       "<table border=\"1\" class=\"dataframe\">\n",
       "  <thead>\n",
       "    <tr style=\"text-align: right;\">\n",
       "      <th></th>\n",
       "      <th>hostname</th>\n",
       "      <th>ssh_ip_address</th>\n",
       "      <th>os</th>\n",
       "      <th>os_version</th>\n",
       "      <th>name</th>\n",
       "      <th>version</th>\n",
       "    </tr>\n",
       "  </thead>\n",
       "  <tbody>\n",
       "    <tr>\n",
       "      <th>3868</th>\n",
       "      <td>stdb1</td>\n",
       "      <td>192.168.0.101</td>\n",
       "      <td>Ubuntu</td>\n",
       "      <td>22.04</td>\n",
       "      <td>python3-venv</td>\n",
       "      <td>3.10.6-1~22.04</td>\n",
       "    </tr>\n",
       "  </tbody>\n",
       "</table>"
      ],
      "text/plain": [
       "<IPython.core.display.HTML object>"
      ]
     },
     "metadata": {},
     "output_type": "display_data"
    },
    {
     "name": "stdout",
     "output_type": "stream",
     "text": [
      "\n"
     ]
    }
   ],
   "source": [
    "installed_packages_df = ins.search_installed_packages(package_name_string)"
   ]
  },
  {
   "cell_type": "code",
   "execution_count": null,
   "id": "37edb59f-eaba-4e7d-82d0-2f536b4cf279",
   "metadata": {},
   "outputs": [],
   "source": []
  }
 ],
 "metadata": {
  "kernelspec": {
   "display_name": "Python 3 (ipykernel)",
   "language": "python",
   "name": "python3"
  },
  "language_info": {
   "codemirror_mode": {
    "name": "ipython",
    "version": 3
   },
   "file_extension": ".py",
   "mimetype": "text/x-python",
   "name": "python",
   "nbconvert_exporter": "python",
   "pygments_lexer": "ipython3",
   "version": "3.10.12"
  }
 },
 "nbformat": 4,
 "nbformat_minor": 5
}
