{
 "cells": [
  {
   "cell_type": "code",
   "execution_count": 1,
   "id": "f729b1d6-094c-4bc9-93b8-ba29e625638d",
   "metadata": {},
   "outputs": [],
   "source": [
    "import os, sys\n",
    "from pathlib import Path\n",
    "\n",
    "CURRENT_DIR = Path(os.getcwd())\n",
    "PJROOT_DIR = CURRENT_DIR.parent.parent\n",
    "LIB_PACKAGE_MAN_DIR = PJROOT_DIR / \"airflow\"\n",
    "\n",
    "sys.path.append(str(LIB_PACKAGE_MAN_DIR))"
   ]
  },
  {
   "cell_type": "code",
   "execution_count": 2,
   "id": "4e3fa3ea-2cc8-459b-938d-7db281cbd5fd",
   "metadata": {},
   "outputs": [],
   "source": [
    "from lib_package_man import PlaybookExecutor"
   ]
  },
  {
   "cell_type": "code",
   "execution_count": 3,
   "id": "2373e35f-f566-46b8-94a0-75131e5e4434",
   "metadata": {},
   "outputs": [],
   "source": [
    "SETTINGS_DIR = PJROOT_DIR / \"settings_package_man\"\n",
    "sys.path.append(str(SETTINGS_DIR))\n",
    "\n",
    "from hostlist import MANAGED_HOSTS_DCT\n",
    "from settings_ansible import ANSIBLE_CONF\n",
    "import pandas as pd\n",
    "import re\n",
    "import yaml\n",
    "import os\n",
    "import csv\n",
    "import json\n",
    "import pyarrow as pa\n",
    "import pyarrow.parquet as pq\n",
    "from datetime import datetime as dt\n",
    "import shutil\n",
    "import os\n",
    "import filecmp\n",
    "import tarfile\n",
    "import subprocess\n",
    "\n",
    "# global variables\n",
    "PLAYBOOK_DIR = PJROOT_DIR / \"playbook\"\n",
    "SETTINGS_DIR = PJROOT_DIR / \"settings_package_man\"\n",
    "DATA_DIR = PJROOT_DIR / \"data_package_man\"\n",
    "HOSTS_OUTPUT_DIR = DATA_DIR / \"hosts\"\n",
    "PACKAGES_OUTPUT_DIR =  DATA_DIR / \"packages\"\n",
    "INVENTORY_FNAME = ANSIBLE_CONF[\"inventory_fname\"]\n",
    "HOSTNAME_WITH_IP = ANSIBLE_CONF[\"hostname_with_ip\"]    \n",
    "GET_OS_VERSION_PLAYBOOK_FNAME = ANSIBLE_CONF[\"get_os_version_playbook_fname\"]\n",
    "GET_PACKAGES_PLAYBOOK_FNAME = ANSIBLE_CONF[\"get_packages_playbook_fname\"]\n",
    "PACKAGE_DATA_FNAME = \"package_list_data.parquet\""
   ]
  },
  {
   "cell_type": "code",
   "execution_count": 4,
   "id": "e370d20f-8fdd-4690-9292-4735a65bb958",
   "metadata": {},
   "outputs": [],
   "source": [
    "self = PlaybookExecutor()"
   ]
  },
  {
   "cell_type": "code",
   "execution_count": 6,
   "id": "65cea857-ea3a-45ca-a5a2-4938c78515f2",
   "metadata": {},
   "outputs": [
    {
     "name": "stdout",
     "output_type": "stream",
     "text": [
      "Call PlaybookExecutor.execute_collecting_data_playbook method with parameter=packages\n",
      "Ansible Output:\n",
      "\n",
      "PLAY [create output dir for host package list if not exist] ********************\n",
      "\n",
      "TASK [create output dir for host package list if not exist] ********************\n",
      "ok: [localhost]\n",
      "\n",
      "PLAY [home_gw_192.168.0.100 get packages] **************************************\n",
      "\n",
      "TASK [Gathering Facts] *********************************************************\n",
      "ok: [home_gw_192.168.0.100]\n",
      "\n",
      "TASK [home_gw_192.168.0.100: Gather package facts] *****************************\n",
      "ok: [home_gw_192.168.0.100]\n",
      "\n",
      "TASK [home_gw_192.168.0.100: Save package facts to file] ***********************\n",
      "ok: [home_gw_192.168.0.100 -> localhost]\n",
      "\n",
      "PLAY [stdb1_192.168.0.101 get packages] ****************************************\n",
      "\n",
      "TASK [Gathering Facts] *********************************************************\n",
      "ok: [stdb1_192.168.0.101]\n",
      "\n",
      "TASK [stdb1_192.168.0.101: Gather package facts] *******************************\n",
      "ok: [stdb1_192.168.0.101]\n",
      "\n",
      "TASK [stdb1_192.168.0.101: Save package facts to file] *************************\n",
      "ok: [stdb1_192.168.0.101 -> localhost]\n",
      "\n",
      "PLAY [grafana1_192.168.0.134 get packages] *************************************\n",
      "\n",
      "TASK [Gathering Facts] *********************************************************\n",
      "ok: [grafana1_192.168.0.134]\n",
      "\n",
      "TASK [grafana1_192.168.0.134: Gather package facts] ****************************\n",
      "ok: [grafana1_192.168.0.134]\n",
      "\n",
      "TASK [grafana1_192.168.0.134: Save package facts to file] **********************\n",
      "ok: [grafana1_192.168.0.134 -> localhost]\n",
      "\n",
      "PLAY [influxdb2_192.168.0.137 get packages] ************************************\n",
      "\n",
      "TASK [Gathering Facts] *********************************************************\n",
      "ok: [influxdb2_192.168.0.137]\n",
      "\n",
      "TASK [influxdb2_192.168.0.137: Gather package facts] ***************************\n",
      "ok: [influxdb2_192.168.0.137]\n",
      "\n",
      "TASK [influxdb2_192.168.0.137: Save package facts to file] *********************\n",
      "ok: [influxdb2_192.168.0.137 -> localhost]\n",
      "\n",
      "PLAY [django05_192.168.0.145 get packages] *************************************\n",
      "\n",
      "TASK [Gathering Facts] *********************************************************\n",
      "ok: [django05_192.168.0.145]\n",
      "\n",
      "TASK [django05_192.168.0.145: Gather package facts] ****************************\n",
      "ok: [django05_192.168.0.145]\n",
      "\n",
      "TASK [django05_192.168.0.145: Save package facts to file] **********************\n",
      "ok: [django05_192.168.0.145 -> localhost]\n",
      "\n",
      "PLAY RECAP *********************************************************************\n",
      "django05_192.168.0.145     : ok=3    changed=0    unreachable=0    failed=0    skipped=0    rescued=0    ignored=0   \n",
      "grafana1_192.168.0.134     : ok=3    changed=0    unreachable=0    failed=0    skipped=0    rescued=0    ignored=0   \n",
      "home_gw_192.168.0.100      : ok=3    changed=0    unreachable=0    failed=0    skipped=0    rescued=0    ignored=0   \n",
      "influxdb2_192.168.0.137    : ok=3    changed=0    unreachable=0    failed=0    skipped=0    rescued=0    ignored=0   \n",
      "localhost                  : ok=1    changed=0    unreachable=0    failed=0    skipped=0    rescued=0    ignored=0   \n",
      "stdb1_192.168.0.101        : ok=3    changed=0    unreachable=0    failed=0    skipped=0    rescued=0    ignored=0   \n",
      "\n",
      "\n",
      "Ansible Error:\n"
     ]
    }
   ],
   "source": [
    "target_data = \"packages\"\n",
    "# target_data = \"os_version\"\n",
    "self.execute_collecting_data_playbook(target_data)"
   ]
  },
  {
   "cell_type": "code",
   "execution_count": null,
   "id": "3c0fbbc9-3303-40c5-be34-15d4c6f513e4",
   "metadata": {},
   "outputs": [],
   "source": []
  }
 ],
 "metadata": {
  "kernelspec": {
   "display_name": "Python 3 (ipykernel)",
   "language": "python",
   "name": "python3"
  },
  "language_info": {
   "codemirror_mode": {
    "name": "ipython",
    "version": 3
   },
   "file_extension": ".py",
   "mimetype": "text/x-python",
   "name": "python",
   "nbconvert_exporter": "python",
   "pygments_lexer": "ipython3",
   "version": "3.10.12"
  }
 },
 "nbformat": 4,
 "nbformat_minor": 5
}
