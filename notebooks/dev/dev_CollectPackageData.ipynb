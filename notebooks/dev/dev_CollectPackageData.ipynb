{
 "cells": [
  {
   "cell_type": "code",
   "execution_count": 1,
   "id": "d16a2d7f-c5ba-4c41-a23d-5d9617770b41",
   "metadata": {},
   "outputs": [],
   "source": [
    "import os, sys\n",
    "from pathlib import Path\n",
    "\n",
    "CURRENT_DIR = Path(os.getcwd())\n",
    "PJROOT_DIR = CURRENT_DIR.parent\n",
    "LIB_PACKAGE_MAN_DIR = PJROOT_DIR / \"airflow\"\n",
    "\n",
    "sys.path.append(str(LIB_PACKAGE_MAN_DIR))\n"
   ]
  },
  {
   "cell_type": "code",
   "execution_count": 2,
   "id": "3b75ec43-c917-4e7e-bde1-4326769397bf",
   "metadata": {},
   "outputs": [],
   "source": [
    "from lib_package_man import CollectPackageData"
   ]
  },
  {
   "cell_type": "code",
   "execution_count": 3,
   "id": "1c6ca7dc-4091-49eb-8c59-3b648773d5b8",
   "metadata": {},
   "outputs": [],
   "source": [
    "self = CollectPackageData()"
   ]
  },
  {
   "cell_type": "code",
   "execution_count": 4,
   "id": "5395ba3d-d10c-4460-8448-e1e24c8c5bb5",
   "metadata": {},
   "outputs": [],
   "source": [
    "self.collect_data()"
   ]
  },
  {
   "cell_type": "code",
   "execution_count": null,
   "id": "915c7e4b-4c7c-497c-b2e9-9886f270efa8",
   "metadata": {},
   "outputs": [],
   "source": []
  }
 ],
 "metadata": {
  "kernelspec": {
   "display_name": "Python 3 (ipykernel)",
   "language": "python",
   "name": "python3"
  },
  "language_info": {
   "codemirror_mode": {
    "name": "ipython",
    "version": 3
   },
   "file_extension": ".py",
   "mimetype": "text/x-python",
   "name": "python",
   "nbconvert_exporter": "python",
   "pygments_lexer": "ipython3",
   "version": "3.10.12"
  }
 },
 "nbformat": 4,
 "nbformat_minor": 5
}
