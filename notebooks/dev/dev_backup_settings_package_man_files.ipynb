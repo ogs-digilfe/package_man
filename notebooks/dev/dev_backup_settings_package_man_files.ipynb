{
 "cells": [
  {
   "cell_type": "code",
   "execution_count": 1,
   "id": "52dfe2c3-0e49-4631-8891-e0a5944f43e8",
   "metadata": {},
   "outputs": [],
   "source": [
    "import os, sys\n",
    "from pathlib import Path\n",
    "\n",
    "CURRENT_DIR = Path(os.getcwd())\n",
    "PJROOT_DIR = CURRENT_DIR.parent.parent\n",
    "LIB_PACKAGE_MAN_DIR = PJROOT_DIR / \"airflow\"\n",
    "\n",
    "sys.path.append(str(LIB_PACKAGE_MAN_DIR))"
   ]
  },
  {
   "cell_type": "code",
   "execution_count": 2,
   "id": "02d123dd-9f6c-48ec-b190-574cccd69579",
   "metadata": {},
   "outputs": [],
   "source": [
    "from lib_package_man import PackageManBackup"
   ]
  },
  {
   "cell_type": "code",
   "execution_count": 3,
   "id": "9d57c81e-6030-4b33-a18c-0ff867d14bb6",
   "metadata": {},
   "outputs": [],
   "source": [
    "import pandas as pd\n",
    "import re\n",
    "import yaml\n",
    "import os\n",
    "import csv\n",
    "import json\n",
    "import pyarrow as pa\n",
    "import pyarrow.parquet as pq\n",
    "from datetime import datetime as dt\n",
    "import shutil\n",
    "import os\n",
    "import filecmp\n",
    "import tarfile"
   ]
  },
  {
   "cell_type": "code",
   "execution_count": 13,
   "id": "588c93b3-afea-48a9-bdcf-e3a0769f386c",
   "metadata": {},
   "outputs": [
    {
     "name": "stdout",
     "output_type": "stream",
     "text": [
      "function backup_settings_package_man_files(raw_josn_settings_ansible) called\n",
      "Settings File settings_ansible.py's backup archive will be created if changed\n",
      "\n",
      "Call PackageManBackup.is_backup_archive method\n",
      "3 backup archive files found --> extracting last backup archive file\n",
      "\n",
      "Call PackageManBackup.extract_last_backup_files method\n",
      "extract backup files: /home/ogs-digilife/venvs/package_man/settings_package_man/settings_ansible_20240122_1626.temp_bak\n",
      "\n",
      "Call PackageManBackup.check_if_backup_required method\n",
      "Call PackageManBackup.is_backup_archive method\n",
      "3 backup archive files found --> extracting last backup archive file\n",
      "\n",
      "debug /home/ogs-digilife/venvs/package_man/settings_package_man/settings_ansible.py /home/ogs-digilife/venvs/package_man/settings_package_man/settings_ansible_20240122_1626.temp_bak\n",
      "original files changed --> create backup\n",
      "\n",
      "Call PackageManBackup.delete_temporaly_backup_files method\n",
      "/home/ogs-digilife/venvs/package_man/settings_package_man/settings_ansible_20240122_1626.temp_bak removed\n",
      "\n",
      "Call PackageManBackup.create_temporaly_backup_files method\n",
      "temporary backup file '/home/ogs-digilife/venvs/package_man/settings_package_man/settings_ansible.py_20240122_1629.temp_bak' generated\n",
      "\n",
      "Call PackageManBackup.create_backup_archive file method\n",
      "added backup archive: /home/ogs-digilife/venvs/package_man/settings_package_man/settings_ansible.py_20240122_1629.bak\n",
      "backup file is created: /home/ogs-digilife/venvs/package_man/settings_package_man/settings_ansible_20240122_1629.tar.gz\n",
      "\n",
      "Call PackageManBackup.delete_temporaly_backup_files method\n",
      "/home/ogs-digilife/venvs/package_man/settings_package_man/settings_ansible.py_20240122_1629.temp_bak removed\n",
      "\n",
      "Call PackageManBackup.delete_old_bakup_files method(<- backup rotation process)\n",
      "backup file rotation: /home/ogs-digilife/venvs/package_man/settings_package_man/settings_ansible_20240122_1623.tar.gz removed\n",
      "\n"
     ]
    }
   ],
   "source": [
    "# def backup_settings_package_man_files(backup_target):\n",
    "ins_PMB = PackageManBackup(backup_target)\n",
    "stdout  = f\"function backup_settings_package_man_files({backup_target}) called\\n\"\n",
    "stdout += f\"Settings File {ins_PMB.fname_pattern}'s backup archive will be created if changed\"\n",
    "print(stdout)\n",
    "print()\n",
    "\n",
    "# backup archiveがない場合はtempbakを作成して\n",
    "# tempbakからbackup archiveを作成する\n",
    "if not ins_PMB.is_backup_archive():\n",
    "    ins_PMB.create_temporaly_backup_files()\n",
    "    ins_PMB.create_backup_archive_file()\n",
    "# backup archiveが存在する場合は、originalの変更有無チェックのために\n",
    "# 最新のbackup archiveからbackupを解凍する\n",
    "else:\n",
    "    ins_PMB.extract_last_backup_files()\n",
    "\n",
    "# 比較のためにbackup archiveからextractしたtempファイルを削除して、\n",
    "# originalファイルから改めてtempファイルを作成し、\n",
    "# tempファイルからbackup archiveを作成する\n",
    "if ins_PMB.check_if_backup_required():\n",
    "    ins_PMB.delete_temporaly_backup_files()\n",
    "    ins_PMB.create_temporaly_backup_files()\n",
    "    ins_PMB.create_backup_archive_file()   \n",
    "\n",
    "# temp_bakファイルを削除\n",
    "ins_PMB.delete_temporaly_backup_files()\n",
    "\n",
    "# バックアップファイルのローテーション\n",
    "ins_PMB.delete_old_bakup_files()"
   ]
  },
  {
   "cell_type": "code",
   "execution_count": null,
   "id": "4cfd811a-5340-452c-bdbd-74f082e24e7e",
   "metadata": {},
   "outputs": [],
   "source": []
  }
 ],
 "metadata": {
  "kernelspec": {
   "display_name": "Python 3 (ipykernel)",
   "language": "python",
   "name": "python3"
  },
  "language_info": {
   "codemirror_mode": {
    "name": "ipython",
    "version": 3
   },
   "file_extension": ".py",
   "mimetype": "text/x-python",
   "name": "python",
   "nbconvert_exporter": "python",
   "pygments_lexer": "ipython3",
   "version": "3.10.12"
  }
 },
 "nbformat": 4,
 "nbformat_minor": 5
}
