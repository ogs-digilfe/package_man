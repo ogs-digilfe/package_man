{
 "cells": [
  {
   "cell_type": "code",
   "execution_count": 2,
   "id": "3c303e3e-a13d-4cf5-8552-294eda42333a",
   "metadata": {},
   "outputs": [],
   "source": [
    "import os, sys\n",
    "from pathlib import Path\n",
    "\n",
    "CURRENT_DIR = Path(os.getcwd())\n",
    "PJROOT_DIR = CURRENT_DIR.parent.parent\n",
    "LIB_LOCAL_DIR = PJROOT_DIR / \"notebooks\"\n",
    "LIB_PACKAGE_MAN_DIR = PJROOT_DIR / \"airflow\"\n",
    "\n",
    "sys.path.append(str(LIB_PACKAGE_MAN_DIR))\n",
    "sys.path.append(str(LIB_LOCAL_DIR))"
   ]
  },
  {
   "cell_type": "code",
   "execution_count": 3,
   "id": "dc07ae62-8b75-42d2-aada-d7c270eebf2f",
   "metadata": {},
   "outputs": [],
   "source": [
    "from lib_local import PackageList\n",
    "from packaging import version\n",
    "\n",
    "self = PackageList()"
   ]
  },
  {
   "cell_type": "code",
   "execution_count": 6,
   "id": "d3076c69-8701-4f40-8429-b0f27fc6191b",
   "metadata": {},
   "outputs": [
    {
     "data": {
      "text/plain": [
       "Index(['ssh_ip_address', 'os', 'os_version', 'hostname', 'pkg_id', 'arch',\n",
       "       'category', 'name', 'origin', 'source', 'version', 'epoc',\n",
       "       'transformed_versiondata', 'parsed_versiondata'],\n",
       "      dtype='object')"
      ]
     },
     "execution_count": 6,
     "metadata": {},
     "output_type": "execute_result"
    }
   ],
   "source": [
    "# hostリストの一覧を表示する\n",
    "# def get_host_list(self):\n",
    "df = self.df\n",
    "df.columns"
   ]
  },
  {
   "cell_type": "code",
   "execution_count": null,
   "id": "f58abf9c-fa22-46fc-8893-9c2dc5ea9134",
   "metadata": {},
   "outputs": [],
   "source": []
  }
 ],
 "metadata": {
  "kernelspec": {
   "display_name": "Python 3 (ipykernel)",
   "language": "python",
   "name": "python3"
  },
  "language_info": {
   "codemirror_mode": {
    "name": "ipython",
    "version": 3
   },
   "file_extension": ".py",
   "mimetype": "text/x-python",
   "name": "python",
   "nbconvert_exporter": "python",
   "pygments_lexer": "ipython3",
   "version": "3.10.12"
  }
 },
 "nbformat": 4,
 "nbformat_minor": 5
}
