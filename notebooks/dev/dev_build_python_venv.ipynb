{
 "cells": [
  {
   "cell_type": "code",
   "execution_count": 6,
   "id": "98845dc0-c4ae-49be-9fd8-0d0d71649c39",
   "metadata": {},
   "outputs": [],
   "source": [
    "from pathlib import Path\n",
    "import os\n",
    "import sys\n",
    "\n",
    "CURRENT_DIR = Path(os.getcwd())\n",
    "PJROOT_DIR = CURRENT_DIR.parent.parent\n",
    "INSTALL_TOOLS_DIR = PJROOT_DIR / \"install_tools\" / \"python_scripts\"\n",
    "sys.path.append(str(INSTALL_TOOLS_DIR))\n",
    "\n",
    "from build_python_venv import set_environment\n",
    "\n",
    "import subprocess\n",
    "from datetime import datetime\n",
    "\n",
    "AIRFLOW_HOME_PATH = PJROOT_DIR / \"airflow\"\n",
    "ENVIRONMENT_FILE_PATH = \"/etc/environment\"\n",
    "AIRFLOW_HOME_ENV_VAR = \"AIRFLOW_HOME\"\n",
    "\n"
   ]
  },
  {
   "cell_type": "code",
   "execution_count": 8,
   "id": "0b30899a-8406-4173-80d0-afa80a29401c",
   "metadata": {},
   "outputs": [
    {
     "name": "stdout",
     "output_type": "stream",
     "text": [
      "Call set_environment_vars method\n",
      "/home/ogs-digilife/venvs/package_man/install_tools/python_scripts/environment\n"
     ]
    }
   ],
   "source": [
    "file = \"/etc/environment\"\n",
    "airflow_home_env_var = AIRFLOW_HOME_ENV_VAR\n",
    "value = AIRFLOW_HOME_PATH\n",
    "\n",
    "# /etc/environmentに環境変数の設定を追加する\n",
    "set_environment(airflow_home_env_var, value, file=\"/etc/environment\")"
   ]
  },
  {
   "cell_type": "code",
   "execution_count": 40,
   "id": "e617a777-1618-4c6d-9b55-27ec5c6f80b8",
   "metadata": {},
   "outputs": [
    {
     "name": "stdout",
     "output_type": "stream",
     "text": [
      "Call set_environment_vars method\n",
      "Warning: Environment variable 'AIRFLOW_HOME=\"/home/ogs-digilife/venvs/package_man/airflow\"' already set in /etc/environment.\n",
      "skip setting environment varialbe\n",
      "If new airflow home must be set in /etc/environment, replace the old airflow home environment variable conf with: AIRFLOW_HOME=\"/home/ogs-digilife/venvs/package_man/airflow\"\n"
     ]
    }
   ],
   "source": [
    "file = \"/etc/environment\"\n",
    "airflow_home_env_var = AIRFLOW_HOME_ENV_VAR\n",
    "value = f'{AIRFLOW_HOME_PATH}'\n",
    "value_quote = True\n",
    "\n",
    "# /etc/environmentに環境変数の設定を追加する\n",
    "# def set_environment(env_var, value, file=\"/etc/environment\"):\n",
    "stdout = \"Call set_environment_vars method\"\n",
    "print(stdout)\n",
    "\n",
    "# timestamp\n",
    "timestamp = datetime.now().strftime(\"%Y%m%d_%H%M%S\")\n",
    "\n",
    "# /etc/environmentに環境変数をセットする場合は、valueを\"\"でクォートする必要がある\n",
    "if not '\"' in value:\n",
    "    value = f'\"{value}\"'\n",
    "\n",
    "with open(str(file), \"r\") as f:\n",
    "    content = \"\"\n",
    "    flg = True\n",
    "    for l in f:\n",
    "        content += l\n",
    "        env_var = l.split(\"=\")[0]\n",
    "        if env_var == airflow_home_env_var:\n",
    "            stdout  = f\"Warning: Environment variable '{l.strip()}' already set in {file}.\\n\"\n",
    "            stdout += \"skip setting environment varialbe\\n\"\n",
    "            stdout += f'If new airflow home must be set in {file}, replace the old airflow home environment variable conf with: {env_var}={value}'\n",
    "            print(stdout)\n",
    "            flg = False\n",
    "\n",
    "if flg:\n",
    "    content += f'\\n{airflow_home_env_var}={value}\\n'\n",
    "    # /etc/environmentのバックアップをコピー\n",
    "    command = f\"sudo cp {ENVIRONMENT_FILE_PATH} {ENVIRONMENT_FILE_PATH}.{timestamp}.bak\"\n",
    "    subprocess.run(command, shell=True, stdout=subprocess.PIPE, text=True)\n",
    "\n",
    "    # /etc/environmentはownerがrootなので、一旦カレントディレクトリに作成してsudo権限を使ってmoveする\n",
    "    current_dir = str(CURRENT_DIR)\n",
    "    fpath = f\"{current_dir}/environment\"\n",
    "    print(fpath)\n",
    "    with open(fpath, \"w\") as f:\n",
    "        f.write(content)\n",
    "    command = f\"sudo mv {current_dir}/environment {ENVIRONMENT_FILE_PATH}\"\n",
    "    subprocess.run(command, shell=True, stdout=subprocess.PIPE, text=True)"
   ]
  },
  {
   "cell_type": "code",
   "execution_count": 7,
   "id": "f3bf2618-e2d1-4666-be80-9560900f4c60",
   "metadata": {},
   "outputs": [
    {
     "name": "stdout",
     "output_type": "stream",
     "text": [
      "PATH=\"/usr/local/sbin:/usr/local/bin:/usr/sbin:/usr/bin:/sbin:/bin:/usr/games:/usr/local/games:/snap/bin\"\n",
      "AIRFLOW_HOME=\"/home/ogs-digilife/venvs/package_man/airflow\"\n",
      "ANSIBLE_USER=\"ogs-digilife\"  \n",
      "ANSIBLE_SSH_PASS=\"hnmks1515HG\"\n",
      "ANSIBLE_SSH_PRIVATE_KEY_FILE=\"/home/ogs-digilife/.ssh/ogs-digilife\"\n",
      "\n"
     ]
    }
   ],
   "source": [
    "print(env)"
   ]
  },
  {
   "cell_type": "code",
   "execution_count": null,
   "id": "27a34e5a-511d-4550-a335-30380d098aeb",
   "metadata": {},
   "outputs": [],
   "source": []
  }
 ],
 "metadata": {
  "kernelspec": {
   "display_name": "Python 3 (ipykernel)",
   "language": "python",
   "name": "python3"
  },
  "language_info": {
   "codemirror_mode": {
    "name": "ipython",
    "version": 3
   },
   "file_extension": ".py",
   "mimetype": "text/x-python",
   "name": "python",
   "nbconvert_exporter": "python",
   "pygments_lexer": "ipython3",
   "version": "3.10.12"
  }
 },
 "nbformat": 4,
 "nbformat_minor": 5
}
