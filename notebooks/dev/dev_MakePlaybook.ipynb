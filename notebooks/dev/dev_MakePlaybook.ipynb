{
 "cells": [
  {
   "cell_type": "code",
   "execution_count": 1,
   "id": "15bb6925-183d-4ebd-b726-e0df44c36875",
   "metadata": {},
   "outputs": [],
   "source": [
    "import os, sys\n",
    "from pathlib import Path\n",
    "\n",
    "CURRENT_DIR = Path(os.getcwd())\n",
    "PJROOT_DIR = CURRENT_DIR.parent.parent\n",
    "LIB_PACKAGE_MAN_DIR = PJROOT_DIR / \"airflow\"\n",
    "\n",
    "sys.path.append(str(LIB_PACKAGE_MAN_DIR))"
   ]
  },
  {
   "cell_type": "code",
   "execution_count": 2,
   "id": "950ae81c-8460-420b-b2e6-9eeea19c0685",
   "metadata": {},
   "outputs": [],
   "source": [
    "import yaml, json"
   ]
  },
  {
   "cell_type": "code",
   "execution_count": 3,
   "id": "b6b3e9e3-7340-49d0-9140-b9110ab6281f",
   "metadata": {},
   "outputs": [],
   "source": [
    "from lib_package_man import PackageManBackup, MakePlaybook"
   ]
  },
  {
   "cell_type": "code",
   "execution_count": 12,
   "id": "a6243244-8b85-438d-8066-d95a930fe8d9",
   "metadata": {},
   "outputs": [],
   "source": [
    "self = MakePlaybook()"
   ]
  },
  {
   "cell_type": "code",
   "execution_count": 13,
   "id": "41fc12c2-2c5e-4b2a-946e-278d3e7e325d",
   "metadata": {},
   "outputs": [
    {
     "data": {
      "text/plain": [
       "Index(['192.168.0.100', '192.168.0.101', '192.168.0.134', '192.168.0.137',\n",
       "       '192.168.0.145', '192.168.0.135'],\n",
       "      dtype='object', name='ssh_ip_address')"
      ]
     },
     "execution_count": 13,
     "metadata": {},
     "output_type": "execute_result"
    }
   ],
   "source": [
    "self.df.index"
   ]
  },
  {
   "cell_type": "code",
   "execution_count": 14,
   "id": "df67c2fc-0abc-4ce4-81c1-26c0d4724ffb",
   "metadata": {},
   "outputs": [
    {
     "data": {
      "text/html": [
       "<div>\n",
       "<style scoped>\n",
       "    .dataframe tbody tr th:only-of-type {\n",
       "        vertical-align: middle;\n",
       "    }\n",
       "\n",
       "    .dataframe tbody tr th {\n",
       "        vertical-align: top;\n",
       "    }\n",
       "\n",
       "    .dataframe thead th {\n",
       "        text-align: right;\n",
       "    }\n",
       "</style>\n",
       "<table border=\"1\" class=\"dataframe\">\n",
       "  <thead>\n",
       "    <tr style=\"text-align: right;\">\n",
       "      <th></th>\n",
       "      <th>ssh_auth_method</th>\n",
       "      <th>ssh_user</th>\n",
       "      <th>ssh_password</th>\n",
       "      <th>ssh_secretkey_path</th>\n",
       "      <th>name</th>\n",
       "      <th>package_manager</th>\n",
       "      <th>env</th>\n",
       "    </tr>\n",
       "    <tr>\n",
       "      <th>ssh_ip_address</th>\n",
       "      <th></th>\n",
       "      <th></th>\n",
       "      <th></th>\n",
       "      <th></th>\n",
       "      <th></th>\n",
       "      <th></th>\n",
       "      <th></th>\n",
       "    </tr>\n",
       "  </thead>\n",
       "  <tbody>\n",
       "    <tr>\n",
       "      <th>192.168.0.100</th>\n",
       "      <td>password</td>\n",
       "      <td>$ANSIBLE_USER</td>\n",
       "      <td>$ANSIBLE_SSH_PASS</td>\n",
       "      <td>$ANSIBLE_SSH_PRIVATE_KEY_FILE</td>\n",
       "      <td>home_gw</td>\n",
       "      <td>apt</td>\n",
       "      <td>dev</td>\n",
       "    </tr>\n",
       "    <tr>\n",
       "      <th>192.168.0.101</th>\n",
       "      <td>password</td>\n",
       "      <td>$ANSIBLE_USER</td>\n",
       "      <td>$ANSIBLE_SSH_PASS</td>\n",
       "      <td>NaN</td>\n",
       "      <td>stdb1</td>\n",
       "      <td>apt</td>\n",
       "      <td>dev</td>\n",
       "    </tr>\n",
       "    <tr>\n",
       "      <th>192.168.0.134</th>\n",
       "      <td>password</td>\n",
       "      <td>$ANSIBLE_USER</td>\n",
       "      <td>$ANSIBLE_SSH_PASS</td>\n",
       "      <td>NaN</td>\n",
       "      <td>grafana1</td>\n",
       "      <td>apt</td>\n",
       "      <td>dev</td>\n",
       "    </tr>\n",
       "    <tr>\n",
       "      <th>192.168.0.137</th>\n",
       "      <td>password</td>\n",
       "      <td>$ANSIBLE_USER</td>\n",
       "      <td>$ANSIBLE_SSH_PASS</td>\n",
       "      <td>NaN</td>\n",
       "      <td>influxdb2</td>\n",
       "      <td>apt</td>\n",
       "      <td>dev</td>\n",
       "    </tr>\n",
       "    <tr>\n",
       "      <th>192.168.0.145</th>\n",
       "      <td>password</td>\n",
       "      <td>$ANSIBLE_USER</td>\n",
       "      <td>$ANSIBLE_SSH_PASS</td>\n",
       "      <td>$ANSIBLE_SSH_PRIVATE_KEY_FILE</td>\n",
       "      <td>django05</td>\n",
       "      <td>apt</td>\n",
       "      <td>dev</td>\n",
       "    </tr>\n",
       "    <tr>\n",
       "      <th>192.168.0.135</th>\n",
       "      <td>password</td>\n",
       "      <td>$ANSIBLE_USER</td>\n",
       "      <td>$ANSIBLE_SSH_PASS</td>\n",
       "      <td>$ANSIBLE_SSH_PRIVATE_KEY_FILE</td>\n",
       "      <td>pacmng1</td>\n",
       "      <td>apt</td>\n",
       "      <td>dev</td>\n",
       "    </tr>\n",
       "  </tbody>\n",
       "</table>\n",
       "</div>"
      ],
      "text/plain": [
       "               ssh_auth_method       ssh_user       ssh_password  \\\n",
       "ssh_ip_address                                                     \n",
       "192.168.0.100         password  $ANSIBLE_USER  $ANSIBLE_SSH_PASS   \n",
       "192.168.0.101         password  $ANSIBLE_USER  $ANSIBLE_SSH_PASS   \n",
       "192.168.0.134         password  $ANSIBLE_USER  $ANSIBLE_SSH_PASS   \n",
       "192.168.0.137         password  $ANSIBLE_USER  $ANSIBLE_SSH_PASS   \n",
       "192.168.0.145         password  $ANSIBLE_USER  $ANSIBLE_SSH_PASS   \n",
       "192.168.0.135         password  $ANSIBLE_USER  $ANSIBLE_SSH_PASS   \n",
       "\n",
       "                           ssh_secretkey_path       name package_manager  env  \n",
       "ssh_ip_address                                                                 \n",
       "192.168.0.100   $ANSIBLE_SSH_PRIVATE_KEY_FILE    home_gw             apt  dev  \n",
       "192.168.0.101                             NaN      stdb1             apt  dev  \n",
       "192.168.0.134                             NaN   grafana1             apt  dev  \n",
       "192.168.0.137                             NaN  influxdb2             apt  dev  \n",
       "192.168.0.145   $ANSIBLE_SSH_PRIVATE_KEY_FILE   django05             apt  dev  \n",
       "192.168.0.135   $ANSIBLE_SSH_PRIVATE_KEY_FILE    pacmng1             apt  dev  "
      ]
     },
     "execution_count": 14,
     "metadata": {},
     "output_type": "execute_result"
    }
   ],
   "source": [
    "self.df"
   ]
  },
  {
   "cell_type": "code",
   "execution_count": 15,
   "id": "1c411ec7-b9c5-4620-a38d-f37249623af0",
   "metadata": {},
   "outputs": [
    {
     "name": "stdout",
     "output_type": "stream",
     "text": [
      "Call MakePlaybook.make_get_packages_playbook method\n",
      "Playbook /home/ogs-digilife/package_man/playbook/upgrade_package_playbook/upgrade-package.yml was made\n",
      "Call MakePlaybook.make_inventory method\n",
      "Inventory file /home/ogs-digilife/package_man/playbook/upgrade_package_playbook/inventory.yml was made\n",
      "\n"
     ]
    }
   ],
   "source": [
    "package = \"python3-pip\"\n",
    "post_upgrade_task = \"\"\n",
    "service_name = \"\"\n",
    "package_manager = \"apt\"\n",
    "env = \"dev\"\n",
    "# ssh_ip_address = \"192.168.0.135\"\n",
    "self.make_upgrade_package_inventory_and_playbook(\n",
    "    package, \n",
    "    post_upgrade_task=post_upgrade_task, \n",
    "    service_name=service_name, \n",
    "    package_manager=package_manager,\n",
    "    env=env,\n",
    "    # ssh_ip_address=ssh_ip_address,\n",
    ")"
   ]
  },
  {
   "cell_type": "code",
   "execution_count": 9,
   "id": "8c3d5fc1-59e1-4726-9225-79fe059a451c",
   "metadata": {},
   "outputs": [
    {
     "name": "stdout",
     "output_type": "stream",
     "text": [
      "Call MakePlaybook.make_get_packages_playbook method\n",
      "['ssh_auth_method', 'ssh_user', 'ssh_password', 'ssh_secretkey_path', 'name', 'package_manager', 'env']\n",
      "\n",
      "- name: Upgrade home_gw_192.168.0.100's openssh-server package to latest play\n",
      "  hosts: home_gw_192.168.0.100\n",
      "  become: 'yes'\n",
      "  tasks:\n",
      "  - name: Update host home_gw_192.168.0.100's apt repositories cache task\n",
      "    apt:\n",
      "      update_cache: 'yes'\n",
      "      cache_valid_time: 3600\n",
      "  - name: Upgrade home_gw_192.168.0.100's openssh-server package to latest task\n",
      "    apt:\n",
      "      name: openssh-server\n",
      "      state: latest\n",
      "    notify: reloaded sshd\n",
      "  handlers:\n",
      "  - name: reloaded sshd\n",
      "    service:\n",
      "      name: sshd\n",
      "      state: reloaded\n",
      "\n"
     ]
    }
   ],
   "source": [
    "kwargs = {\n",
    "    \"package_manager\": \"apt\",\n",
    "    \"env\": \"dev\",\n",
    "    \"ssh_ip_address\": \"192.168.0.100\"\n",
    "}\n",
    "package = \"openssh-server\"\n",
    "post_upgrade_task = \"reloaded\"\n",
    "service_name = \"sshd\"\n",
    "\n",
    "# def make_package_upgrade_playbook(self, package, post_upgrade_task=\"\", service_name=\"\", **kwargs):\n",
    "stdout = \"Call MakePlaybook.make_get_packages_playbook method\"\n",
    "print(stdout)\n",
    "\n",
    "# **kwargsでupgrade対象のhostをfilterする。\n",
    "self.filter_hosts(**kwargs)\n",
    "\n",
    "print(self.df.columns.tolist())\n",
    "\n",
    "playbook = []\n",
    "for ssh_ip_address in self.df.index:\n",
    "    hostname = self.df.loc[ssh_ip_address, \"name\"]\n",
    "    manager = self.df.loc[ssh_ip_address, \"package_manager\"]\n",
    "    play = self._make_package_upgrade_play(ssh_ip_address, hostname, manager, package, post_upgrade_task, service_name)\n",
    "    playbook.append(play)\n",
    "\n",
    "print()\n",
    "print(yaml.dump(playbook, sort_keys=False))"
   ]
  },
  {
   "cell_type": "code",
   "execution_count": 17,
   "id": "c58bd6a9-984c-4076-97d1-a661e066f38d",
   "metadata": {},
   "outputs": [
    {
     "data": {
      "text/html": [
       "<div>\n",
       "<style scoped>\n",
       "    .dataframe tbody tr th:only-of-type {\n",
       "        vertical-align: middle;\n",
       "    }\n",
       "\n",
       "    .dataframe tbody tr th {\n",
       "        vertical-align: top;\n",
       "    }\n",
       "\n",
       "    .dataframe thead th {\n",
       "        text-align: right;\n",
       "    }\n",
       "</style>\n",
       "<table border=\"1\" class=\"dataframe\">\n",
       "  <thead>\n",
       "    <tr style=\"text-align: right;\">\n",
       "      <th></th>\n",
       "      <th>ssh_auth_method</th>\n",
       "      <th>ssh_user</th>\n",
       "      <th>ssh_password</th>\n",
       "      <th>ssh_secretkey_path</th>\n",
       "      <th>name</th>\n",
       "      <th>package_manager</th>\n",
       "      <th>env</th>\n",
       "    </tr>\n",
       "    <tr>\n",
       "      <th>ssh_ip_address</th>\n",
       "      <th></th>\n",
       "      <th></th>\n",
       "      <th></th>\n",
       "      <th></th>\n",
       "      <th></th>\n",
       "      <th></th>\n",
       "      <th></th>\n",
       "    </tr>\n",
       "  </thead>\n",
       "  <tbody>\n",
       "    <tr>\n",
       "      <th>192.168.0.134</th>\n",
       "      <td>password</td>\n",
       "      <td>$ANSIBLE_USER</td>\n",
       "      <td>$ANSIBLE_SSH_PASS</td>\n",
       "      <td>NaN</td>\n",
       "      <td>grafana1</td>\n",
       "      <td>apt</td>\n",
       "      <td>dev</td>\n",
       "    </tr>\n",
       "  </tbody>\n",
       "</table>\n",
       "</div>"
      ],
      "text/plain": [
       "               ssh_auth_method       ssh_user       ssh_password  \\\n",
       "ssh_ip_address                                                     \n",
       "192.168.0.134         password  $ANSIBLE_USER  $ANSIBLE_SSH_PASS   \n",
       "\n",
       "               ssh_secretkey_path      name package_manager  env  \n",
       "ssh_ip_address                                                    \n",
       "192.168.0.134                 NaN  grafana1             apt  dev  "
      ]
     },
     "execution_count": 17,
     "metadata": {},
     "output_type": "execute_result"
    }
   ],
   "source": [
    "kwargs = {\n",
    "    \"package_manager\": \"apt\",\n",
    "    \"env\": \"dev\",\n",
    "    \"name\": \"grafana1\"\n",
    "}\n",
    "# \n",
    "# def filter_hosts(self, **kwargs):\n",
    "filter_keys = kwargs.keys()\n",
    "\n",
    "# filterが設定されていない場合は、何もせずreturnする\n",
    "if len(filter_keys)==0:\n",
    "    # return\n",
    "    print(\"no filter data\")\n",
    "\n",
    "# validation & filter\n",
    "correct_keys = [\"ssh_ip_address\"] + self.df.columns.tolist()\n",
    "for k in filter_keys:\n",
    "    # 正しいfilterが設定されてなければexit\n",
    "    if not k in correct_keys:\n",
    "        stdout = f'Exception: incorrect key \"{k}\" was set to filter --> exit process'\n",
    "        sys.exit(stdout)\n",
    "\n",
    "    fv = kwargs[k]\n",
    "    self.df = self.df[self.df[k]==fv]\n",
    "\n",
    "# validation2 -> レコード数が0になってしまった場合は、例外を発生させる。\n",
    "if self.df.shape[0] == 0:\n",
    "        stdout = f'Exception: No upgrade target host!! --> exit process'\n",
    "        sys.exit(stdout)\n",
    "\n",
    "self.df\n",
    "        "
   ]
  },
  {
   "cell_type": "code",
   "execution_count": 7,
   "id": "d2f258aa-d929-4a7f-821a-4e0ca080d4f4",
   "metadata": {},
   "outputs": [
    {
     "name": "stdout",
     "output_type": "stream",
     "text": [
      "Call MakePlaybook.make_get_packages_playbook method\n"
     ]
    },
    {
     "data": {
      "text/plain": [
       "['home_gw', 'stdb1', 'grafana1', 'influxdb2', 'django05']"
      ]
     },
     "execution_count": 7,
     "metadata": {},
     "output_type": "execute_result"
    }
   ],
   "source": [
    "kwargs = {\n",
    "    \"package_manager\": \"apt\"\n",
    "}\n",
    "# def make_package_upgrade_playbook(self, package, post_pgrade_task=\"\", service_name=\"\", **kwargs):\n",
    "stdout = \"Call make_package_upgrade_playbook method\"\n",
    "print(stdout)\n",
    "\n",
    "# 対象をfilter\n",
    "\n",
    "    \n",
    "\n",
    "hosts"
   ]
  },
  {
   "cell_type": "code",
   "execution_count": 6,
   "id": "ecc0db2a-da5e-4517-b10e-240d120539de",
   "metadata": {},
   "outputs": [
    {
     "name": "stdout",
     "output_type": "stream",
     "text": [
      "name: Upgrade home_gw_192.168.0.100's python-pip package to latest play\n",
      "hosts: home_gw_192.168.0.100\n",
      "become: 'yes'\n",
      "tasks:\n",
      "- name: Update host home_gw_192.168.0.100's apt repositories cache task\n",
      "  apt:\n",
      "    update_cache: 'yes'\n",
      "    cache_valid_time: 3600\n",
      "- name: Upgrade home_gw_192.168.0.100's python-pip package to latest task\n",
      "  apt:\n",
      "    name: python-pip\n",
      "    state: latest\n",
      "  notify: REBOOT home_gw_192.168.0.100\n",
      "handlers:\n",
      "- name: REBOOT home_gw_192.168.0.100\n",
      "  reboot:\n",
      "    pre_reboot_delay: 10\n",
      "    post_reboot_delay: 30\n",
      "    test_command: uptime\n",
      "    reboot_timeout: 300\n",
      "\n"
     ]
    }
   ],
   "source": [
    "ssh_ip_address = \"192.168.0.100\"\n",
    "hostname = \"home_gw\"\n",
    "manager = \"apt\"\n",
    "package = \"python-pip\"\n",
    "post_upgrade_task = \"reboot\"\n",
    "service_name = \"pip\"\n",
    "\n",
    "play = self._make_package_upgrade_play(ssh_ip_address, hostname, manager, package, post_upgrade_task, service_name)\n",
    "print(yaml.dump(play, sort_keys=False))"
   ]
  },
  {
   "cell_type": "code",
   "execution_count": 14,
   "id": "b5c07924-4890-462e-8264-4d8abe57d78c",
   "metadata": {},
   "outputs": [
    {
     "name": "stdout",
     "output_type": "stream",
     "text": [
      "- name: reloaded python3-pip\n",
      "  service:\n",
      "    name: sshd\n",
      "    state: reloaded\n",
      "\n"
     ]
    }
   ],
   "source": [
    "handlers_name = \"reloaded python3-pip\"\n",
    "handlers_service_name = \"sshd\"\n",
    "handlers_service_state=\"reloaded\"\n",
    "\n",
    "# def _make_handlers_for_package_upgrade_play(self, handlers_name, handlers_service_name, handlers_service_state):\n",
    "handlers = []\n",
    "\n",
    "handler = {}\n",
    "handler[\"name\"] = handlers_name\n",
    "handler[\"service\"] = {\n",
    "    \"name\": handlers_service_name,\n",
    "    \"state\": handlers_service_state\n",
    "}\n",
    "\n",
    "handlers.append(handler)\n",
    "\n",
    "print(yaml.dump(handlers, sort_keys=False))"
   ]
  },
  {
   "cell_type": "code",
   "execution_count": 11,
   "id": "c42edafb-a440-47a8-b506-8780676e123e",
   "metadata": {},
   "outputs": [
    {
     "name": "stdout",
     "output_type": "stream",
     "text": [
      "Index(['ssh_auth_method', 'ssh_user', 'ssh_password', 'ssh_secretkey_path',\n",
      "       'name', 'package_manager', 'env'],\n",
      "      dtype='object')\n",
      "- name: Upgrade home_gw_192.168.0.100's python3-pip package to latest play\n",
      "  hosts: home_gw_192.168.0.100\n",
      "  tasks:\n",
      "  - name: Update host home_gw_192.168.0.100's apt repositories cache task\n",
      "    apt:\n",
      "      update_cache: 'yes'\n",
      "      cache_valid_time: 3600\n",
      "  - name: Upgrade home_gw_192.168.0.100's python3-pip package to latest task\n",
      "    apt:\n",
      "      name: python3-pip\n",
      "      state: latest\n",
      "    notify: reloaded python3-pip\n",
      "- name: Upgrade stdb1_192.168.0.101's python3-pip package to latest play\n",
      "  hosts: stdb1_192.168.0.101\n",
      "  tasks:\n",
      "  - name: Update host stdb1_192.168.0.101's apt repositories cache task\n",
      "    apt:\n",
      "      update_cache: 'yes'\n",
      "      cache_valid_time: 3600\n",
      "  - name: Upgrade stdb1_192.168.0.101's python3-pip package to latest task\n",
      "    apt:\n",
      "      name: python3-pip\n",
      "      state: latest\n",
      "    notify: reloaded python3-pip\n",
      "- name: Upgrade grafana1_192.168.0.134's python3-pip package to latest play\n",
      "  hosts: grafana1_192.168.0.134\n",
      "  tasks:\n",
      "  - name: Update host grafana1_192.168.0.134's apt repositories cache task\n",
      "    apt:\n",
      "      update_cache: 'yes'\n",
      "      cache_valid_time: 3600\n",
      "  - name: Upgrade grafana1_192.168.0.134's python3-pip package to latest task\n",
      "    apt:\n",
      "      name: python3-pip\n",
      "      state: latest\n",
      "    notify: reloaded python3-pip\n",
      "- name: Upgrade influxdb2_192.168.0.137's python3-pip package to latest play\n",
      "  hosts: influxdb2_192.168.0.137\n",
      "  tasks:\n",
      "  - name: Update host influxdb2_192.168.0.137's apt repositories cache task\n",
      "    apt:\n",
      "      update_cache: 'yes'\n",
      "      cache_valid_time: 3600\n",
      "  - name: Upgrade influxdb2_192.168.0.137's python3-pip package to latest task\n",
      "    apt:\n",
      "      name: python3-pip\n",
      "      state: latest\n",
      "    notify: reloaded python3-pip\n",
      "- name: Upgrade django05_192.168.0.145's python3-pip package to latest play\n",
      "  hosts: django05_192.168.0.145\n",
      "  tasks:\n",
      "  - name: Update host django05_192.168.0.145's apt repositories cache task\n",
      "    apt:\n",
      "      update_cache: 'yes'\n",
      "      cache_valid_time: 3600\n",
      "  - name: Upgrade django05_192.168.0.145's python3-pip package to latest task\n",
      "    apt:\n",
      "      name: python3-pip\n",
      "      state: latest\n",
      "    notify: reloaded python3-pip\n",
      "\n"
     ]
    }
   ],
   "source": [
    "package_manager = \"apt\"\n",
    "\n",
    "ssh_ip_address = \"192.168.0.100\"\n",
    "hostname = \"home_gw\"\n",
    "manager = \"apt\"\n",
    "package = \"python3-pip\"\n",
    "post_upgrade_task=\"reloaded\"\n",
    "\n",
    "# パッケージの最新版への更新\n",
    "# def make_package_upgrade_playbook(self):のサブメソッド\n",
    "# def _make_package_upgrade_plays(package_manager, package, post_upgrade_task):\n",
    "# dfをhgでfilter\n",
    "pdf = self.df[self.df[\"package_manager\"]==package_manager]\n",
    "\n",
    "# playはhostごとに作成する\n",
    "ssh_ip_addresses = pdf.index\n",
    "print(pdf.columns)\n",
    "package_plays = []\n",
    "for ip in ssh_ip_addresses:\n",
    "    package_plays.append(self._make_packageupdate_play(ip, hostname, package_manager, package, post_upgrade_task))\n",
    "\n",
    "print(yaml.dump(package_plays, sort_keys=False))"
   ]
  },
  {
   "cell_type": "code",
   "execution_count": 5,
   "id": "29b69a1e-c232-498e-b5f4-873b051fae7f",
   "metadata": {},
   "outputs": [
    {
     "name": "stdout",
     "output_type": "stream",
     "text": [
      "Call MakePlaybook.make_get_packages_playbook method\n"
     ]
    },
    {
     "data": {
      "text/plain": [
       "['apt']"
      ]
     },
     "execution_count": 5,
     "metadata": {},
     "output_type": "execute_result"
    }
   ],
   "source": [
    "# パッケージの最新版への更新\n",
    "# def make_package_upgrade_playbook(self):\n",
    "stdout = \"Call MakePlaybook.make_get_packages_playbook method\"\n",
    "print(stdout)\n",
    "\n",
    "playbook = []\n",
    "\n",
    "hosts = self.df[\"package_manager\"].drop_duplicates().tolist()\n",
    "\n",
    "for hg in hosts:\n",
    "    # OS情報収集結果を出力するためのフォルダを作成するplayを作成してplaybookに追加\n",
    "    # playbook.append(self._make_get_os_version_plays(hg))\n",
    "    playbook += self._make_get_package_plays(hg)"
   ]
  },
  {
   "cell_type": "code",
   "execution_count": null,
   "id": "c700c386-7d87-4912-bc67-1b1210dbfc2c",
   "metadata": {},
   "outputs": [],
   "source": [
    "# パッケージの最新版への更新\n",
    "# post_upgrade_task = \"\"|\"reloaded\"|\"restarted\"|\"reboot\"|\n",
    "# def make_package_upgrade_playbook(self, package, post_upgrade_task=\"\"):のサブメソッド\n",
    "# def _make_package_upgrade_plays(self, package, package_manager, post_upgrade_task=\"\"):のサブメソッド\n",
    "# def _make_package_update_play(self, package, ssh_ip_address, post_upgrade_task=\"\"):のサブメソッド\n",
    "def _make_tasks_for_package_upgrade_play(self, hostname, manager, package, post_upgrade_task=\"\"):\n",
    "    tasks = []\n",
    "    \n",
    "    # repositories cach updateタスク\n",
    "    dct = {}\n",
    "    dct[\"name\"] = f'Update host {hostname}\\'s {manager} repositories cache'\n",
    "    dct[manager] = {\n",
    "        \"update_cache\": \"yes\",\n",
    "        \"cache_valid_time\": 3600,\n",
    "    }\n",
    "    tasks.append(dct)\n",
    "    \n",
    "    # package更新タスク\n",
    "    dct = {}\n",
    "    dct[\"name\"] = f'Upgrade {hostname}\\'s {package} package to latest'\n",
    "    dct[f'{manager}'] = {\n",
    "        \"name\": package,\n",
    "        \"state\": \"latest\"\n",
    "    }\n",
    "    # post_upgrade_taskが指定されていた場合は、notifyをセット。\n",
    "    if post_upgrade_task == \"reloaded\" or post_upgrade_task == \"restarted\":\n",
    "        dct[\"notify\"] = f'{post_upgrade_task} {package}'\n",
    "    elif post_upgrade_task == \"reboot\":\n",
    "        dct[\"notify\"] = \"REBOOT SYSTEM\"\n",
    "    elif post_upgrade_task == \"\":\n",
    "        pass\n",
    "    else:\n",
    "        stdout = f'WARNING!!!: unknown post_upgrade_task \"{post_upgrade_task}\" --> ignored\\n'\n",
    "        print(stdout)\n",
    "    tasks.append(dct)\n",
    "    \n",
    "    return tasks"
   ]
  }
 ],
 "metadata": {
  "kernelspec": {
   "display_name": "Python 3 (ipykernel)",
   "language": "python",
   "name": "python3"
  },
  "language_info": {
   "codemirror_mode": {
    "name": "ipython",
    "version": 3
   },
   "file_extension": ".py",
   "mimetype": "text/x-python",
   "name": "python",
   "nbconvert_exporter": "python",
   "pygments_lexer": "ipython3",
   "version": "3.10.12"
  }
 },
 "nbformat": 4,
 "nbformat_minor": 5
}
