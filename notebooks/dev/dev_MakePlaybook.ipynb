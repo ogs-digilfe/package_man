{
 "cells": [
  {
   "cell_type": "code",
   "execution_count": 1,
   "id": "15bb6925-183d-4ebd-b726-e0df44c36875",
   "metadata": {},
   "outputs": [],
   "source": [
    "import os, sys\n",
    "from pathlib import Path\n",
    "\n",
    "CURRENT_DIR = Path(os.getcwd())\n",
    "PJROOT_DIR = CURRENT_DIR.parent.parent\n",
    "LIB_PACKAGE_MAN_DIR = PJROOT_DIR / \"airflow\"\n",
    "\n",
    "sys.path.append(str(LIB_PACKAGE_MAN_DIR))"
   ]
  },
  {
   "cell_type": "code",
   "execution_count": 2,
   "id": "950ae81c-8460-420b-b2e6-9eeea19c0685",
   "metadata": {},
   "outputs": [],
   "source": [
    "import yaml, json"
   ]
  },
  {
   "cell_type": "code",
   "execution_count": 3,
   "id": "b6b3e9e3-7340-49d0-9140-b9110ab6281f",
   "metadata": {},
   "outputs": [],
   "source": [
    "from lib_package_man import PackageManBackup, MakePlaybook"
   ]
  },
  {
   "cell_type": "code",
   "execution_count": 4,
   "id": "a6243244-8b85-438d-8066-d95a930fe8d9",
   "metadata": {},
   "outputs": [],
   "source": [
    "self = MakePlaybook()"
   ]
  },
  {
   "cell_type": "code",
   "execution_count": 12,
   "id": "aa345d20-a64e-430f-810a-a872c2561f5d",
   "metadata": {},
   "outputs": [
    {
     "name": "stdout",
     "output_type": "stream",
     "text": [
      "Call MakePlaybook.make_inventory method\n",
      "{\n",
      "    \"apt\": {\n",
      "        \"hosts\": {\n",
      "            \"home_gw_192.168.0.100\": {\n",
      "                \"ansible_host\": \"192.168.0.100\",\n",
      "                \"ansible_user\": \"\\\"{{ lookup('env', 'ANSIBLE_USER') }}\\\"\",\n",
      "                \"ansible_ssh_pass\": \"\\\"{{ lookup('env', 'ANSIBLE_SSH_PASS') }}\\\"\",\n",
      "                \"ansible_ssh_extra_args\": \"'-o StrictHostKeyChecking=no'\"\n",
      "            },\n",
      "            \"stdb1_192.168.0.101\": {\n",
      "                \"ansible_host\": \"192.168.0.101\",\n",
      "                \"ansible_user\": \"\\\"{{ lookup('env', 'ANSIBLE_USER') }}\\\"\",\n",
      "                \"ansible_ssh_pass\": \"\\\"{{ lookup('env', 'ANSIBLE_SSH_PASS') }}\\\"\",\n",
      "                \"ansible_ssh_extra_args\": \"'-o StrictHostKeyChecking=no'\"\n",
      "            },\n",
      "            \"grafana1_192.168.0.134\": {\n",
      "                \"ansible_host\": \"192.168.0.134\",\n",
      "                \"ansible_user\": \"\\\"{{ lookup('env', 'ANSIBLE_USER') }}\\\"\",\n",
      "                \"ansible_ssh_pass\": \"\\\"{{ lookup('env', 'ANSIBLE_SSH_PASS') }}\\\"\",\n",
      "                \"ansible_ssh_extra_args\": \"'-o StrictHostKeyChecking=no'\"\n",
      "            },\n",
      "            \"influxdb2_192.168.0.137\": {\n",
      "                \"ansible_host\": \"192.168.0.137\",\n",
      "                \"ansible_user\": \"\\\"{{ lookup('env', 'ANSIBLE_USER') }}\\\"\",\n",
      "                \"ansible_ssh_pass\": \"\\\"{{ lookup('env', 'ANSIBLE_SSH_PASS') }}\\\"\",\n",
      "                \"ansible_ssh_extra_args\": \"'-o StrictHostKeyChecking=no'\"\n",
      "            },\n",
      "            \"django05_192.168.0.145\": {\n",
      "                \"ansible_host\": \"192.168.0.145\",\n",
      "                \"ansible_user\": \"\\\"{{ lookup('env', 'ANSIBLE_USER') }}\\\"\",\n",
      "                \"ansible_ssh_pass\": \"\\\"{{ lookup('env', 'ANSIBLE_SSH_PASS') }}\\\"\",\n",
      "                \"ansible_ssh_extra_args\": \"'-o StrictHostKeyChecking=no'\"\n",
      "            }\n",
      "        }\n",
      "    },\n",
      "    \"yum\": {\n",
      "        \"hosts\": {\n",
      "            \"dummy_yum_192.168.0.254\": {\n",
      "                \"ansible_host\": \"192.168.0.254\",\n",
      "                \"ansible_user\": \"\\\"{{ lookup('env', 'ANSIBLE_USER') }}\\\"\",\n",
      "                \"ansible_ssh_pass\": \"\\\"{{ lookup('env', 'ANSIBLE_SSH_PASS') }}\\\"\",\n",
      "                \"ansible_ssh_extra_args\": \"'-o StrictHostKeyChecking=no'\"\n",
      "            }\n",
      "        }\n",
      "    }\n",
      "}\n"
     ]
    }
   ],
   "source": [
    "# make_inventoryのbug修正\n",
    "# 複数種類のpackage managerがあるときに、正しいinventory fileが作成されないバグの修正\n",
    "# def make_inventory(self):\n",
    "stdout = \"Call MakePlaybook.make_inventory method\"\n",
    "print(stdout)\n",
    "\n",
    "# package_managerごとにhostgroupを作成する\n",
    "host_groups = self._get_hostgroups()\n",
    "for hg in host_groups:\n",
    "    hosts_dct = {}\n",
    "    hosts_dct[\"hosts\"] = self._make_hosts_dct(hg)\n",
    "    hg_dct[hg] = hosts_dct\n",
    "\n",
    "json_dump = json.dumps(hg_dct, indent=4)\n",
    "print(json_dump)\n"
   ]
  },
  {
   "cell_type": "code",
   "execution_count": 4,
   "id": "a0702151-e379-404e-a410-89edccff35d3",
   "metadata": {},
   "outputs": [],
   "source": [
    "self.make_inventory()"
   ]
  },
  {
   "cell_type": "code",
   "execution_count": 6,
   "id": "83441f55-51b9-4273-9619-b5943616e031",
   "metadata": {},
   "outputs": [],
   "source": [
    "self.make_get_os_version_playbook()"
   ]
  },
  {
   "cell_type": "code",
   "execution_count": 7,
   "id": "fcfdf965-5ed0-4777-a11d-9966d77541e3",
   "metadata": {},
   "outputs": [],
   "source": [
    "self.make_get_packages_playbook()"
   ]
  },
  {
   "cell_type": "code",
   "execution_count": null,
   "id": "29b69a1e-c232-498e-b5f4-873b051fae7f",
   "metadata": {},
   "outputs": [],
   "source": []
  }
 ],
 "metadata": {
  "kernelspec": {
   "display_name": "Python 3 (ipykernel)",
   "language": "python",
   "name": "python3"
  },
  "language_info": {
   "codemirror_mode": {
    "name": "ipython",
    "version": 3
   },
   "file_extension": ".py",
   "mimetype": "text/x-python",
   "name": "python",
   "nbconvert_exporter": "python",
   "pygments_lexer": "ipython3",
   "version": "3.10.12"
  }
 },
 "nbformat": 4,
 "nbformat_minor": 5
}
