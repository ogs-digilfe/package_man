{
 "cells": [
  {
   "cell_type": "code",
   "execution_count": 1,
   "id": "15bb6925-183d-4ebd-b726-e0df44c36875",
   "metadata": {},
   "outputs": [],
   "source": [
    "import os, sys\n",
    "from pathlib import Path\n",
    "\n",
    "CURRENT_DIR = Path(os.getcwd())\n",
    "PJROOT_DIR = CURRENT_DIR.parent.parent\n",
    "LIB_PACKAGE_MAN_DIR = PJROOT_DIR / \"airflow\"\n",
    "\n",
    "sys.path.append(str(LIB_PACKAGE_MAN_DIR))"
   ]
  },
  {
   "cell_type": "code",
   "execution_count": 2,
   "id": "950ae81c-8460-420b-b2e6-9eeea19c0685",
   "metadata": {},
   "outputs": [],
   "source": [
    "import yaml, json"
   ]
  },
  {
   "cell_type": "code",
   "execution_count": 3,
   "id": "b6b3e9e3-7340-49d0-9140-b9110ab6281f",
   "metadata": {},
   "outputs": [],
   "source": [
    "from lib_package_man import PackageManBackup, MakePlaybook"
   ]
  },
  {
   "cell_type": "code",
   "execution_count": 4,
   "id": "a6243244-8b85-438d-8066-d95a930fe8d9",
   "metadata": {},
   "outputs": [],
   "source": [
    "self = MakePlaybook()"
   ]
  },
  {
   "cell_type": "code",
   "execution_count": null,
   "id": "29b69a1e-c232-498e-b5f4-873b051fae7f",
   "metadata": {},
   "outputs": [],
   "source": [
    "# make_inventoryの作り替え(fpを指定できるようにする)\n",
    "# def make_inventory(self, INVENTORY_FILEFP=PLAYBOOK_DIR/INVENTORY_FNAME):\n"
   ]
  }
 ],
 "metadata": {
  "kernelspec": {
   "display_name": "Python 3 (ipykernel)",
   "language": "python",
   "name": "python3"
  },
  "language_info": {
   "codemirror_mode": {
    "name": "ipython",
    "version": 3
   },
   "file_extension": ".py",
   "mimetype": "text/x-python",
   "name": "python",
   "nbconvert_exporter": "python",
   "pygments_lexer": "ipython3",
   "version": "3.10.12"
  }
 },
 "nbformat": 4,
 "nbformat_minor": 5
}
