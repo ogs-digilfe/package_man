{
 "cells": [
  {
   "cell_type": "code",
   "execution_count": 1,
   "id": "9bdc692f-88fa-4092-a2d8-51f3afb301a7",
   "metadata": {},
   "outputs": [],
   "source": [
    "import os, sys\n",
    "from pathlib import Path\n",
    "\n",
    "CURRENT_DIR = Path(os.getcwd())\n",
    "PJROOT_DIR = CURRENT_DIR.parent.parent\n",
    "LIB_PACKAGE_MAN_DIR = PJROOT_DIR / \"airflow\"\n",
    "\n",
    "sys.path.append(str(LIB_PACKAGE_MAN_DIR))"
   ]
  },
  {
   "cell_type": "code",
   "execution_count": 2,
   "id": "e1e4cd92-28a6-48b8-824f-8c0b4c73ba6f",
   "metadata": {},
   "outputs": [],
   "source": [
    "from lib_package_man import PackageManBackup"
   ]
  },
  {
   "cell_type": "code",
   "execution_count": 3,
   "id": "6e117d64-ec0b-4dd9-9bb5-8d0991351d3f",
   "metadata": {},
   "outputs": [],
   "source": [
    "import pandas as pd\n",
    "import re\n",
    "import yaml\n",
    "import os\n",
    "import csv\n",
    "import json\n",
    "import pyarrow as pa\n",
    "import pyarrow.parquet as pq\n",
    "from datetime import datetime as dt\n",
    "import shutil\n",
    "import os\n",
    "import filecmp\n",
    "import tarfile"
   ]
  },
  {
   "cell_type": "code",
   "execution_count": 12,
   "id": "4fe87242-1afc-41be-bfc5-3a3cbb9e3ccf",
   "metadata": {},
   "outputs": [],
   "source": [
    "# backup_target=<\"raw_text_host_os_list\"|\"raw_text_host_packages_list\"|\"joined_parquet_host_os_packages_list\"|\"raw_josn_settings_hostlist\"|\"playbook\">\n",
    "backup_target = \"playbook\"\n",
    "self = PackageManBackup(backup_target)"
   ]
  },
  {
   "cell_type": "code",
   "execution_count": 13,
   "id": "6268b34c-57c0-4a33-9429-a16fa16490db",
   "metadata": {},
   "outputs": [
    {
     "name": "stdout",
     "output_type": "stream",
     "text": [
      "Call PackageManBackup.is_backup_archive method\n",
      "*.tar.gz\n",
      "[PosixPath('/home/ogs-digilife/venvs/package_man/playbook/playbooks_and_inventory_20240117_1653.tar.gz')]\n"
     ]
    }
   ],
   "source": [
    "# def is_backup_arcchiveの改修(self):\n",
    "stdout = \"Call PackageManBackup.is_backup_archive method\"\n",
    "print(stdout)\n",
    "\n",
    "# backup_targetごとのsearchするfileパターンのセット\n",
    "if (self.backup_target ==  \"raw_josn_settings_hostlist\") or (self.backup_target ==  \"raw_josn_settings_ansible\"):\n",
    "    host_parts = self.fname_pattern.split(\".\")\n",
    "    host_parts = host_parts[:-1]\n",
    "    host_part = host_parts[0]\n",
    "    file_pattern = f\"{host_part}*.{self.backup_archive_extention}\"\n",
    "else:\n",
    "    file_pattern = f\"*.{self.backup_archive_extention}\"\n",
    "    \n",
    "\n",
    "\n",
    "# バックアップアーカイブファイルの取得\n",
    "#file_pattern = f\"*.{self.backup_archive_extention}\"\n",
    "backup_archive_files = list(self.dir.glob(file_pattern))\n",
    "\n",
    "print(file_pattern)\n",
    "print(backup_archive_files)"
   ]
  },
  {
   "cell_type": "code",
   "execution_count": 5,
   "id": "0ad862fe-beab-4d59-8cce-ac5d975a523d",
   "metadata": {},
   "outputs": [
    {
     "name": "stdout",
     "output_type": "stream",
     "text": [
      "Call PackageManBackup.is_backup_archive method\n",
      "No backup archive files --> skip extracting backup archive files\n",
      "\n"
     ]
    },
    {
     "data": {
      "text/plain": [
       "False"
      ]
     },
     "execution_count": 5,
     "metadata": {},
     "output_type": "execute_result"
    }
   ],
   "source": [
    "self.is_backup_archive()"
   ]
  },
  {
   "cell_type": "code",
   "execution_count": 6,
   "id": "96429a8a-a245-4f04-821f-602ec2d794dc",
   "metadata": {},
   "outputs": [
    {
     "name": "stdout",
     "output_type": "stream",
     "text": [
      "Call PackageManBackup.is_backup_archive method\n",
      "No backup archive files --> skip extracting backup archive files\n",
      "\n",
      "No backup archive files --> skip extracting backup archive files\n",
      "\n"
     ]
    },
    {
     "data": {
      "text/plain": [
       "True"
      ]
     },
     "execution_count": 6,
     "metadata": {},
     "output_type": "execute_result"
    }
   ],
   "source": [
    "# backup fileが存在するかどうかチェックし、あればTrue, なければFalseを返す\n",
    "# def is_backup_archive(self):\n",
    "stdout = \"Call PackageManBackup.is_backup_archive method\"\n",
    "print(stdout)\n",
    "\n",
    "# 最新バックアップファイルの取得\n",
    "file_pattern = f\"*.{self.backup_archive_extention}\"\n",
    "backup_archive_files = list(self.dir.glob(file_pattern))\n",
    "\n",
    "# もしバックアップアーカイブがなければ、Falseをreturn\n",
    "num_backup_archive_files = len(backup_archive_files)\n",
    "if num_backup_archive_files == 0:\n",
    "    stdout = \"No backup archive files --> skip extracting backup archive files\"\n",
    "    print(stdout)\n",
    "    print()\n",
    "    return_=False\n",
    "\n",
    "# Falseでなければ、Trueをreturn\n",
    "stdout = \"No backup archive files --> skip extracting backup archive files\"\n",
    "print(stdout)\n",
    "print()\n",
    "return_=True\n",
    "\n",
    "return_"
   ]
  },
  {
   "cell_type": "code",
   "execution_count": null,
   "id": "f23f1edc-98d4-434c-afce-b29131e72523",
   "metadata": {},
   "outputs": [],
   "source": []
  }
 ],
 "metadata": {
  "kernelspec": {
   "display_name": "Python 3 (ipykernel)",
   "language": "python",
   "name": "python3"
  },
  "language_info": {
   "codemirror_mode": {
    "name": "ipython",
    "version": 3
   },
   "file_extension": ".py",
   "mimetype": "text/x-python",
   "name": "python",
   "nbconvert_exporter": "python",
   "pygments_lexer": "ipython3",
   "version": "3.10.12"
  }
 },
 "nbformat": 4,
 "nbformat_minor": 5
}
