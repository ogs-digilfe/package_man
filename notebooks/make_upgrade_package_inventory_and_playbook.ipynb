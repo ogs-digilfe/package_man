{
 "cells": [
  {
   "cell_type": "code",
   "execution_count": 12,
   "id": "477aab2c-c7a7-4eae-b36a-25ebc8fb5f69",
   "metadata": {},
   "outputs": [],
   "source": [
    "########\n",
    "##\n",
    "## パラメータ設定セル\n",
    "##\n",
    "########\n",
    "# hostlistから対象hostをfilterし、指定したpackageをupgradeするためのinventoryファイルとplaybookを出力する。\n",
    "# ファイルの出力先は、package_man/playbook/upgrade_package_playbookディレクトリ。\n",
    "# **kwargsで指定できるkey(列名)は、hostlistの\"ssh_ip_address\"と各列。\n",
    "# self.df.columnsの各要素は、hostlist.pyでhostを登録する際にセットしたtag(key-value)により、変動する。\n",
    "# 例\n",
    "# instance.make_package_upgrade_playbook(ssh_ip_address=\"192.168.0.100\", package_manager=\"apt\")\n",
    "# self.dfのindexであるssh_ip_addressでfilterすると、1台のホストのみにfilterされる。\n",
    "# post_upgrade_taskは、upgrade後の対象ホストの処理について。指定なし|reloaded|restarted|rebootのいずれか\n",
    "# service_nameは、対象パッケージアップグレード後にreloadまたはrestartするservice名を指定。パラメータはpost_upgrade_taskがreloaded|restartedの場合のみ有効。指定なし|<reload,またはrestartするservice名>。\n",
    "\n",
    "package = \"python3-venv\"\n",
    "# post_upgrade_task = \"reloaded\"|\"restarted\"\n",
    "# service_name = \"<service>\" -> \"sshd\"とか、\"httpd\"とか。\n",
    "# 以下は、作成したhostlistのタグ名でfilter(抽出)する\n",
    "# env = \"dev\", package_manager=\"apt\"など。hostlist.pyの任意タグとタグ値でfilter可能。"
   ]
  },
  {
   "cell_type": "code",
   "execution_count": 13,
   "id": "92f6ebe3-5598-4d04-b725-34edb4e10db6",
   "metadata": {},
   "outputs": [],
   "source": [
    "import os, sys\n",
    "from pathlib import Path\n",
    "\n",
    "CURRENT_DIR = Path(os.getcwd())\n",
    "PJROOT_DIR = CURRENT_DIR.parent\n",
    "LIB_PACKAGE_MAN_DIR = PJROOT_DIR / \"airflow\"\n",
    "\n",
    "sys.path.append(str(LIB_PACKAGE_MAN_DIR))"
   ]
  },
  {
   "cell_type": "code",
   "execution_count": 14,
   "id": "d6d8b365-7b49-4bd8-bfb7-a11341839119",
   "metadata": {},
   "outputs": [],
   "source": [
    "from lib_package_man import MakePlaybook, PackageList"
   ]
  },
  {
   "cell_type": "code",
   "execution_count": 15,
   "id": "906d7ee4-0505-4ce6-b38d-0f0cd9ae1225",
   "metadata": {},
   "outputs": [
    {
     "name": "stdout",
     "output_type": "stream",
     "text": [
      "Index(['ssh_ip_address', 'ssh_auth_method', 'ssh_user', 'ssh_password',\n",
      "       'ssh_secretkey_path', 'name', 'package_manager', 'env'],\n",
      "      dtype='object')\n"
     ]
    },
    {
     "data": {
      "text/html": [
       "<div>\n",
       "<style scoped>\n",
       "    .dataframe tbody tr th:only-of-type {\n",
       "        vertical-align: middle;\n",
       "    }\n",
       "\n",
       "    .dataframe tbody tr th {\n",
       "        vertical-align: top;\n",
       "    }\n",
       "\n",
       "    .dataframe thead th {\n",
       "        text-align: right;\n",
       "    }\n",
       "</style>\n",
       "<table border=\"1\" class=\"dataframe\">\n",
       "  <thead>\n",
       "    <tr style=\"text-align: right;\">\n",
       "      <th></th>\n",
       "      <th>ssh_ip_address</th>\n",
       "      <th>ssh_auth_method</th>\n",
       "      <th>ssh_user</th>\n",
       "      <th>ssh_password</th>\n",
       "      <th>ssh_secretkey_path</th>\n",
       "      <th>name</th>\n",
       "      <th>package_manager</th>\n",
       "      <th>env</th>\n",
       "    </tr>\n",
       "  </thead>\n",
       "  <tbody>\n",
       "    <tr>\n",
       "      <th>1</th>\n",
       "      <td>192.168.0.101</td>\n",
       "      <td>password</td>\n",
       "      <td>$ANSIBLE_USER</td>\n",
       "      <td>$ANSIBLE_SSH_PASS</td>\n",
       "      <td>NaN</td>\n",
       "      <td>stdb1</td>\n",
       "      <td>apt</td>\n",
       "      <td>dev</td>\n",
       "    </tr>\n",
       "  </tbody>\n",
       "</table>\n",
       "</div>"
      ],
      "text/plain": [
       "  ssh_ip_address ssh_auth_method       ssh_user       ssh_password  \\\n",
       "1  192.168.0.101        password  $ANSIBLE_USER  $ANSIBLE_SSH_PASS   \n",
       "\n",
       "  ssh_secretkey_path   name package_manager  env  \n",
       "1                NaN  stdb1             apt  dev  "
      ]
     },
     "execution_count": 15,
     "metadata": {},
     "output_type": "execute_result"
    }
   ],
   "source": [
    "# upgrade対象ホストの確認1\n",
    "# 指定したパッケージがインストールされたホスト一覧\n",
    "ins_PL = PackageList()\n",
    "ins_PL.get_unique_hostlist_df(name=package)"
   ]
  },
  {
   "cell_type": "code",
   "execution_count": 11,
   "id": "37c35be8-df4d-4f94-be5f-17e81ea8035b",
   "metadata": {},
   "outputs": [
    {
     "name": "stdout",
     "output_type": "stream",
     "text": [
      "Call MakePlaybook.make_get_packages_playbook method\n",
      "no filter data\n",
      "Index(['ssh_ip_address', 'ssh_auth_method', 'ssh_user', 'ssh_password',\n",
      "       'ssh_secretkey_path', 'name', 'package_manager', 'env'],\n",
      "      dtype='object')\n",
      "Playbook /home/ogs-digilife/package_man/playbook/upgrade_package_playbook/upgrade-package.yml was made\n",
      "Call MakePlaybook.make_inventory method\n",
      "Inventory file /home/ogs-digilife/package_man/playbook/upgrade_package_playbook/inventory.yml was made\n",
      "\n"
     ]
    }
   ],
   "source": [
    "# hostlistから対象hostをfilterし、指定したpackageをupgradeするためのinventoryファイルとplaybookを出力する。\n",
    "# ファイルの出力先は、package_man/playbook/upgrade_package_playbookディレクトリ。\n",
    "# upgradeは、playbook出力先フォルダに移動し、ansible-playbookコマンドを実行することで行う。\n",
    "\n",
    "# 実行コマンド\n",
    "# STEP1: playbook出力先フォルダに移動\n",
    "# $ cd package_man/playbook/upgrade_package_playbook\n",
    "# STEP2: inventoryファイルでansibleが対象ホストに正しくSSHでログインできているか確認\n",
    "# $ ansible all -i inventory.yml -m ping\n",
    "# STEP3: packageのupgrade\n",
    "# $ ansible-playbook -i inventory.yml upgrade-package.yml\n",
    "ins_MP = MakePlaybook()\n",
    "ins_MP.make_upgrade_package_inventory_and_playbook(package)\n",
    "# ins_MP.make_upgrade_package_inventory_and_playbook(package, post_upgrade_task=\"\", service_name=\"\", **kwargs)"
   ]
  },
  {
   "cell_type": "code",
   "execution_count": null,
   "id": "a0a59bf1-5015-47e0-91db-2c1845dbf13e",
   "metadata": {},
   "outputs": [],
   "source": []
  }
 ],
 "metadata": {
  "kernelspec": {
   "display_name": "Python 3 (ipykernel)",
   "language": "python",
   "name": "python3"
  },
  "language_info": {
   "codemirror_mode": {
    "name": "ipython",
    "version": 3
   },
   "file_extension": ".py",
   "mimetype": "text/x-python",
   "name": "python",
   "nbconvert_exporter": "python",
   "pygments_lexer": "ipython3",
   "version": "3.10.12"
  }
 },
 "nbformat": 4,
 "nbformat_minor": 5
}
